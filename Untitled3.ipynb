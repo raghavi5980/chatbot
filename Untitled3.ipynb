{
 "cells": [
  {
   "cell_type": "markdown",
   "metadata": {},
   "source": [
    "# building a chatbot"
   ]
  },
  {
   "cell_type": "code",
   "execution_count": 1,
   "metadata": {},
   "outputs": [],
   "source": [
    "import nltk\n",
    "import numpy as np\n",
    "import random\n",
    "import string\n",
    "\n",
    "import bs4 as bs\n",
    "import urllib.request\n",
    "import re"
   ]
  },
  {
   "cell_type": "code",
   "execution_count": 2,
   "metadata": {},
   "outputs": [
    {
     "name": "stdout",
     "output_type": "stream",
     "text": [
      "You have successfully imported pandas version 1.1.3\n",
      "You have successfully imported nltk version 3.5\n"
     ]
    }
   ],
   "source": [
    "import pandas as pd\n",
    "import nltk\n",
    "\n",
    "print (\"You have successfully imported pandas version \"+pd.__version__)\n",
    "print (\"You have successfully imported nltk version \"+nltk.__version__)"
   ]
  },
  {
   "cell_type": "code",
   "execution_count": 3,
   "metadata": {},
   "outputs": [
    {
     "name": "stdout",
     "output_type": "stream",
     "text": [
      "You have successfully loaded your csv file\n"
     ]
    }
   ],
   "source": [
    "# load the csv file that contains the tweets on natural disasters into a pandas dataframe\n",
    "df_raw = pd.read_csv('./analysis-public-place-assaults-sexual-assaults-and-robberies-2015-csv.csv', encoding='latin-1')\n",
    "\n",
    "print (\"You have successfully loaded your csv file\")"
   ]
  },
  {
   "cell_type": "code",
   "execution_count": 4,
   "metadata": {},
   "outputs": [
    {
     "data": {
      "text/html": [
       "<div>\n",
       "<style scoped>\n",
       "    .dataframe tbody tr th:only-of-type {\n",
       "        vertical-align: middle;\n",
       "    }\n",
       "\n",
       "    .dataframe tbody tr th {\n",
       "        vertical-align: top;\n",
       "    }\n",
       "\n",
       "    .dataframe thead th {\n",
       "        text-align: right;\n",
       "    }\n",
       "</style>\n",
       "<table border=\"1\" class=\"dataframe\">\n",
       "  <thead>\n",
       "    <tr style=\"text-align: right;\">\n",
       "      <th></th>\n",
       "      <th>Index</th>\n",
       "      <th>Area_unit_2013_code</th>\n",
       "      <th>Area_unit_2013_label</th>\n",
       "      <th>Victimisations_calendar_year_2015</th>\n",
       "      <th>Population_mid_point_2015</th>\n",
       "      <th>Rate_per_10000_population</th>\n",
       "      <th>Rate_ratio_NZ_average_rate</th>\n",
       "      <th>Urban_area_2013_code</th>\n",
       "      <th>Urban_area_2013_label</th>\n",
       "      <th>Urban_area_type</th>\n",
       "      <th>Territorial_authority_area_2013_code</th>\n",
       "      <th>Territorial_authority_area_2013_label</th>\n",
       "      <th>Region_2013_code</th>\n",
       "      <th>Region_2013_label</th>\n",
       "    </tr>\n",
       "  </thead>\n",
       "  <tbody>\n",
       "    <tr>\n",
       "      <th>0</th>\n",
       "      <td>1</td>\n",
       "      <td>514102</td>\n",
       "      <td>Auckland Central West</td>\n",
       "      <td>550</td>\n",
       "      <td>15900</td>\n",
       "      <td>346</td>\n",
       "      <td>6.6</td>\n",
       "      <td>4</td>\n",
       "      <td>Central Auckland Zone</td>\n",
       "      <td>Main urban area</td>\n",
       "      <td>76</td>\n",
       "      <td>Auckland</td>\n",
       "      <td>2</td>\n",
       "      <td>Auckland Region</td>\n",
       "    </tr>\n",
       "    <tr>\n",
       "      <th>1</th>\n",
       "      <td>2</td>\n",
       "      <td>573101</td>\n",
       "      <td>Willis Street-Cambridge Terrace</td>\n",
       "      <td>447</td>\n",
       "      <td>8300</td>\n",
       "      <td>539</td>\n",
       "      <td>10.3</td>\n",
       "      <td>20</td>\n",
       "      <td>Wellington Zone</td>\n",
       "      <td>Main urban area</td>\n",
       "      <td>47</td>\n",
       "      <td>Wellington City</td>\n",
       "      <td>9</td>\n",
       "      <td>Wellington Region</td>\n",
       "    </tr>\n",
       "    <tr>\n",
       "      <th>2</th>\n",
       "      <td>3</td>\n",
       "      <td>529700</td>\n",
       "      <td>Hamilton Central</td>\n",
       "      <td>380</td>\n",
       "      <td>3170</td>\n",
       "      <td>1,199</td>\n",
       "      <td>22.9</td>\n",
       "      <td>6</td>\n",
       "      <td>Hamilton Zone</td>\n",
       "      <td>Main urban area</td>\n",
       "      <td>16</td>\n",
       "      <td>Hamilton City</td>\n",
       "      <td>3</td>\n",
       "      <td>Waikato Region</td>\n",
       "    </tr>\n",
       "    <tr>\n",
       "      <th>3</th>\n",
       "      <td>4</td>\n",
       "      <td>514103</td>\n",
       "      <td>Auckland Central East</td>\n",
       "      <td>375</td>\n",
       "      <td>13250</td>\n",
       "      <td>283</td>\n",
       "      <td>5.4</td>\n",
       "      <td>4</td>\n",
       "      <td>Central Auckland Zone</td>\n",
       "      <td>Main urban area</td>\n",
       "      <td>76</td>\n",
       "      <td>Auckland</td>\n",
       "      <td>2</td>\n",
       "      <td>Auckland Region</td>\n",
       "    </tr>\n",
       "    <tr>\n",
       "      <th>4</th>\n",
       "      <td>5</td>\n",
       "      <td>591500</td>\n",
       "      <td>Cathedral Square</td>\n",
       "      <td>305</td>\n",
       "      <td>570</td>\n",
       "      <td>5,351</td>\n",
       "      <td>102.3</td>\n",
       "      <td>22</td>\n",
       "      <td>Christchurch</td>\n",
       "      <td>Main urban area</td>\n",
       "      <td>60</td>\n",
       "      <td>Christchurch City</td>\n",
       "      <td>13</td>\n",
       "      <td>Canterbury Region</td>\n",
       "    </tr>\n",
       "  </tbody>\n",
       "</table>\n",
       "</div>"
      ],
      "text/plain": [
       "   Index  Area_unit_2013_code             Area_unit_2013_label  \\\n",
       "0      1               514102            Auckland Central West   \n",
       "1      2               573101  Willis Street-Cambridge Terrace   \n",
       "2      3               529700                 Hamilton Central   \n",
       "3      4               514103            Auckland Central East   \n",
       "4      5               591500                 Cathedral Square   \n",
       "\n",
       "   Victimisations_calendar_year_2015  Population_mid_point_2015  \\\n",
       "0                                550                      15900   \n",
       "1                                447                       8300   \n",
       "2                                380                       3170   \n",
       "3                                375                      13250   \n",
       "4                                305                        570   \n",
       "\n",
       "   Rate_per_10000_population   Rate_ratio_NZ_average_rate   \\\n",
       "0                         346                          6.6   \n",
       "1                         539                         10.3   \n",
       "2                       1,199                         22.9   \n",
       "3                         283                          5.4   \n",
       "4                       5,351                        102.3   \n",
       "\n",
       "   Urban_area_2013_code  Urban_area_2013_label  Urban_area_type  \\\n",
       "0                     4  Central Auckland Zone  Main urban area   \n",
       "1                    20        Wellington Zone  Main urban area   \n",
       "2                     6          Hamilton Zone  Main urban area   \n",
       "3                     4  Central Auckland Zone  Main urban area   \n",
       "4                    22           Christchurch  Main urban area   \n",
       "\n",
       "   Territorial_authority_area_2013_code Territorial_authority_area_2013_label  \\\n",
       "0                                    76                              Auckland   \n",
       "1                                    47                       Wellington City   \n",
       "2                                    16                         Hamilton City   \n",
       "3                                    76                              Auckland   \n",
       "4                                    60                     Christchurch City   \n",
       "\n",
       "   Region_2013_code  Region_2013_label  \n",
       "0                 2    Auckland Region  \n",
       "1                 9  Wellington Region  \n",
       "2                 3     Waikato Region  \n",
       "3                 2    Auckland Region  \n",
       "4                13  Canterbury Region  "
      ]
     },
     "execution_count": 4,
     "metadata": {},
     "output_type": "execute_result"
    }
   ],
   "source": [
    "df_raw.head(5)"
   ]
  },
  {
   "cell_type": "code",
   "execution_count": 5,
   "metadata": {},
   "outputs": [
    {
     "data": {
      "text/plain": [
       "2020"
      ]
     },
     "execution_count": 5,
     "metadata": {},
     "output_type": "execute_result"
    }
   ],
   "source": [
    "len(df_raw)"
   ]
  },
  {
   "cell_type": "code",
   "execution_count": 6,
   "metadata": {},
   "outputs": [
    {
     "data": {
      "text/plain": [
       "0                 Auckland\n",
       "1          Wellington City\n",
       "2            Hamilton City\n",
       "3                 Auckland\n",
       "4        Christchurch City\n",
       "5                 Auckland\n",
       "6                 Auckland\n",
       "7    Palmerston North City\n",
       "Name: Territorial_authority_area_2013_label, dtype: object"
      ]
     },
     "execution_count": 6,
     "metadata": {},
     "output_type": "execute_result"
    }
   ],
   "source": [
    "df_raw['Territorial_authority_area_2013_label'].head(8)"
   ]
  },
  {
   "cell_type": "code",
   "execution_count": 7,
   "metadata": {},
   "outputs": [
    {
     "name": "stdout",
     "output_type": "stream",
     "text": [
      "Before tokenization: Index                                                       101\n",
      "Area_unit_2013_code                                      524112\n",
      "Area_unit_2013_label                                     Mascot\n",
      "Victimisations_calendar_year_2015                            43\n",
      "Population_mid_point_2015                                  4410\n",
      " Rate_per_10000_population                                   98\n",
      " Rate_ratio_NZ_average_rate                                 1.9\n",
      "Urban_area_2013_code                                          5\n",
      "Urban_area_2013_label                    Southern Auckland Zone\n",
      "Urban_area_type                                 Main urban area\n",
      "Territorial_authority_area_2013_code                         76\n",
      "Territorial_authority_area_2013_label                  Auckland\n",
      "Region_2013_code                                              2\n",
      "Region_2013_label                               Auckland Region\n",
      "Name: 100, dtype: object\n"
     ]
    }
   ],
   "source": [
    "sample_tweet = df_raw.iloc[100]\n",
    "print('Before tokenization:', sample_tweet)"
   ]
  },
  {
   "cell_type": "code",
   "execution_count": 8,
   "metadata": {},
   "outputs": [
    {
     "name": "stdout",
     "output_type": "stream",
     "text": [
      "After tokenization: Index                                                       101\n",
      "Area_unit_2013_code                                      524112\n",
      "Area_unit_2013_label                                     Mascot\n",
      "Victimisations_calendar_year_2015                            43\n",
      "Population_mid_point_2015                                  4410\n",
      " Rate_per_10000_population                                   98\n",
      " Rate_ratio_NZ_average_rate                                 1.9\n",
      "Urban_area_2013_code                                          5\n",
      "Urban_area_2013_label                    Southern Auckland Zone\n",
      "Urban_area_type                                 Main urban area\n",
      "Territorial_authority_area_2013_code                         76\n",
      "Territorial_authority_area_2013_label                  Auckland\n",
      "Region_2013_code                                              2\n",
      "Region_2013_label                               Auckland Region\n",
      "Name: 100, dtype: object\n"
     ]
    }
   ],
   "source": [
    "sample_tweet = df_raw.iloc[100]\n",
    "print('After tokenization:', sample_tweet)"
   ]
  },
  {
   "cell_type": "code",
   "execution_count": 9,
   "metadata": {},
   "outputs": [
    {
     "data": {
      "text/plain": [
       "['i',\n",
       " 'me',\n",
       " 'my',\n",
       " 'myself',\n",
       " 'we',\n",
       " 'our',\n",
       " 'ours',\n",
       " 'ourselves',\n",
       " 'you',\n",
       " \"you're\",\n",
       " \"you've\",\n",
       " \"you'll\",\n",
       " \"you'd\",\n",
       " 'your',\n",
       " 'yours',\n",
       " 'yourself',\n",
       " 'yourselves',\n",
       " 'he',\n",
       " 'him',\n",
       " 'his',\n",
       " 'himself',\n",
       " 'she',\n",
       " \"she's\",\n",
       " 'her',\n",
       " 'hers',\n",
       " 'herself',\n",
       " 'it',\n",
       " \"it's\",\n",
       " 'its',\n",
       " 'itself',\n",
       " 'they',\n",
       " 'them',\n",
       " 'their',\n",
       " 'theirs',\n",
       " 'themselves',\n",
       " 'what',\n",
       " 'which',\n",
       " 'who',\n",
       " 'whom',\n",
       " 'this',\n",
       " 'that',\n",
       " \"that'll\",\n",
       " 'these',\n",
       " 'those',\n",
       " 'am',\n",
       " 'is',\n",
       " 'are',\n",
       " 'was',\n",
       " 'were',\n",
       " 'be',\n",
       " 'been',\n",
       " 'being',\n",
       " 'have',\n",
       " 'has',\n",
       " 'had',\n",
       " 'having',\n",
       " 'do',\n",
       " 'does',\n",
       " 'did',\n",
       " 'doing',\n",
       " 'a',\n",
       " 'an',\n",
       " 'the',\n",
       " 'and',\n",
       " 'but',\n",
       " 'if',\n",
       " 'or',\n",
       " 'because',\n",
       " 'as',\n",
       " 'until',\n",
       " 'while',\n",
       " 'of',\n",
       " 'at',\n",
       " 'by',\n",
       " 'for',\n",
       " 'with',\n",
       " 'about',\n",
       " 'against',\n",
       " 'between',\n",
       " 'into',\n",
       " 'through',\n",
       " 'during',\n",
       " 'before',\n",
       " 'after',\n",
       " 'above',\n",
       " 'below',\n",
       " 'to',\n",
       " 'from',\n",
       " 'up',\n",
       " 'down',\n",
       " 'in',\n",
       " 'out',\n",
       " 'on',\n",
       " 'off',\n",
       " 'over',\n",
       " 'under',\n",
       " 'again',\n",
       " 'further',\n",
       " 'then',\n",
       " 'once',\n",
       " 'here',\n",
       " 'there',\n",
       " 'when',\n",
       " 'where',\n",
       " 'why',\n",
       " 'how',\n",
       " 'all',\n",
       " 'any',\n",
       " 'both',\n",
       " 'each',\n",
       " 'few',\n",
       " 'more',\n",
       " 'most',\n",
       " 'other',\n",
       " 'some',\n",
       " 'such',\n",
       " 'no',\n",
       " 'nor',\n",
       " 'not',\n",
       " 'only',\n",
       " 'own',\n",
       " 'same',\n",
       " 'so',\n",
       " 'than',\n",
       " 'too',\n",
       " 'very',\n",
       " 's',\n",
       " 't',\n",
       " 'can',\n",
       " 'will',\n",
       " 'just',\n",
       " 'don',\n",
       " \"don't\",\n",
       " 'should',\n",
       " \"should've\",\n",
       " 'now',\n",
       " 'd',\n",
       " 'll',\n",
       " 'm',\n",
       " 'o',\n",
       " 're',\n",
       " 've',\n",
       " 'y',\n",
       " 'ain',\n",
       " 'aren',\n",
       " \"aren't\",\n",
       " 'couldn',\n",
       " \"couldn't\",\n",
       " 'didn',\n",
       " \"didn't\",\n",
       " 'doesn',\n",
       " \"doesn't\",\n",
       " 'hadn',\n",
       " \"hadn't\",\n",
       " 'hasn',\n",
       " \"hasn't\",\n",
       " 'haven',\n",
       " \"haven't\",\n",
       " 'isn',\n",
       " \"isn't\",\n",
       " 'ma',\n",
       " 'mightn',\n",
       " \"mightn't\",\n",
       " 'mustn',\n",
       " \"mustn't\",\n",
       " 'needn',\n",
       " \"needn't\",\n",
       " 'shan',\n",
       " \"shan't\",\n",
       " 'shouldn',\n",
       " \"shouldn't\",\n",
       " 'wasn',\n",
       " \"wasn't\",\n",
       " 'weren',\n",
       " \"weren't\",\n",
       " 'won',\n",
       " \"won't\",\n",
       " 'wouldn',\n",
       " \"wouldn't\",\n",
       " '@',\n",
       " '#',\n",
       " 'http',\n",
       " ':']"
      ]
     },
     "execution_count": 9,
     "metadata": {},
     "output_type": "execute_result"
    }
   ],
   "source": [
    "stop = nltk.corpus.stopwords.words('english')\n",
    "# Add a few more stop words we would like to remove here\n",
    "stop.append('@')\n",
    "stop.append('#')\n",
    "stop.append('http')\n",
    "stop.append(':')\n",
    "stop"
   ]
  },
  {
   "cell_type": "code",
   "execution_count": 10,
   "metadata": {},
   "outputs": [],
   "source": [
    "# Let us take two sentences to be the knowledge base, and one more which is a question.\n",
    "Sentence_1='Workplace harassment is the belittling or threatening behavior directed at an individual worker or a group of workers'\n",
    "Sentence_2='Physical harassment in the workplace takes many forms'\n",
    "Question='In an informal survey among 50 employees in Singapore'"
   ]
  },
  {
   "cell_type": "code",
   "execution_count": 11,
   "metadata": {},
   "outputs": [],
   "source": [
    "Vocabulary = ['workplace', 'is', 'among', 'informal', 'forms', 'individual', 'group']"
   ]
  },
  {
   "cell_type": "code",
   "execution_count": 12,
   "metadata": {},
   "outputs": [],
   "source": [
    "bag_of_words = np.array([[1,1,1,1,0,0,0],\n",
    "                        [0,1,1,0,1,1,0],\n",
    "                        [0,1,1,1,0,0,1]])"
   ]
  },
  {
   "cell_type": "code",
   "execution_count": 13,
   "metadata": {},
   "outputs": [
    {
     "data": {
      "text/plain": [
       "array([[1, 1, 1, 1, 0, 0, 0],\n",
       "       [0, 1, 1, 0, 1, 1, 0],\n",
       "       [0, 1, 1, 1, 0, 0, 1]])"
      ]
     },
     "execution_count": 13,
     "metadata": {},
     "output_type": "execute_result"
    }
   ],
   "source": [
    "bag_of_words[:3,:]"
   ]
  },
  {
   "cell_type": "code",
   "execution_count": 14,
   "metadata": {},
   "outputs": [
    {
     "name": "stdout",
     "output_type": "stream",
     "text": [
      "[[0 1 1 1 0 0 1]]\n"
     ]
    }
   ],
   "source": [
    "print (bag_of_words[-1,:].reshape(1, -1))"
   ]
  },
  {
   "cell_type": "code",
   "execution_count": 15,
   "metadata": {},
   "outputs": [
    {
     "data": {
      "image/png": "[encoded data removed]",
      "text/plain": [
       "<Figure size 432x288 with 1 Axes>"
      ]
     },
     "metadata": {
      "needs_background": "light"
     },
     "output_type": "display_data"
    }
   ],
   "source": [
    "import matplotlib.pyplot as plt\n",
    "mu, sigma = 100, 15\n",
    "x = mu + sigma * np.random.randn(10000)\n",
    "\n",
    "# the histogram of the data\n",
    "n, bins, patches = plt.hist(x, 50, density=1, facecolor='g', alpha=0.75)\n",
    "plt.xlabel('workplace')\n",
    "plt.ylabel('gender ratio')\n",
    "plt.title('Histogram of sexual harassments')\n",
    "plt.text(60, .025, r'$\\mu=100,\\ \\sigma=15$')\n",
    "plt.axis([40, 160, 0, 0.03])\n",
    "plt.grid(True)\n",
    "plt.show()"
   ]
  },
  {
   "cell_type": "code",
   "execution_count": 16,
   "metadata": {},
   "outputs": [],
   "source": [
    "import io\n",
    "import random\n",
    "import string # to process standard python strings\n",
    "import warnings\n",
    "import numpy as np\n",
    "from sklearn.feature_extraction.text import TfidfVectorizer\n",
    "from sklearn.metrics.pairwise import cosine_similarity\n",
    "import warnings\n",
    "warnings.filterwarnings('ignore')"
   ]
  },
  {
   "cell_type": "code",
   "execution_count": 17,
   "metadata": {},
   "outputs": [
    {
     "data": {
      "text/plain": [
       "True"
      ]
     },
     "execution_count": 17,
     "metadata": {},
     "output_type": "execute_result"
    }
   ],
   "source": [
    "import nltk\n",
    "from nltk.stem import WordNetLemmatizer\n",
    "nltk.download('popular', quiet=True) # for downloading packages\n",
    "#nltk.download('punkt') # first-time use only\n",
    "#nltk.download('wordnet') # first-time use only"
   ]
  },
  {
   "cell_type": "code",
   "execution_count": 18,
   "metadata": {},
   "outputs": [],
   "source": [
    "raw_html = urllib.request.urlopen('https://en.wikipedia.org/wiki/Workplace_harassment')\n",
    "raw_html = raw_html.read()\n",
    "\n",
    "article_html = bs.BeautifulSoup(raw_html, 'lxml')\n",
    "\n",
    "article_paragraphs = article_html.find_all('p')\n",
    "\n",
    "article_text = ''\n",
    "\n",
    "for para in article_paragraphs:\n",
    "    article_text += para.text\n",
    "\n",
    "article_text = article_text.lower()"
   ]
  },
  {
   "cell_type": "code",
   "execution_count": 19,
   "metadata": {},
   "outputs": [],
   "source": [
    "f=open('workplace harassment.txt','r',errors = 'ignore')\n",
    "raw=f.read()\n",
    "raw = raw.lower()# converts to lowercase"
   ]
  },
  {
   "cell_type": "code",
   "execution_count": 20,
   "metadata": {},
   "outputs": [],
   "source": [
    "sent_tokens = nltk.sent_tokenize(raw)# converts to list of sentences \n",
    "word_tokens = nltk.word_tokenize(raw)# converts to list of words"
   ]
  },
  {
   "cell_type": "code",
   "execution_count": 21,
   "metadata": {},
   "outputs": [],
   "source": [
    "lemmer = nltk.stem.WordNetLemmatizer()\n",
    "#WordNet is a semantically-oriented dictionary of English included in NLTK.\n",
    "def LemTokens(tokens):\n",
    "    return [lemmer.lemmatize(token) for token in tokens]\n",
    "remove_punct_dict = dict((ord(punct), None) for punct in string.punctuation)\n",
    "\n",
    "def LemNormalize(text):\n",
    "    return LemTokens(nltk.word_tokenize(text.lower().translate(remove_punct_dict)))"
   ]
  },
  {
   "cell_type": "code",
   "execution_count": 22,
   "metadata": {},
   "outputs": [],
   "source": [
    "remove_punct_dict = dict((ord(punct), None) for punct in string.punctuation)\n",
    "def LemNormalize(text):\n",
    "    return LemTokens(nltk.word_tokenize(text.lower().translate(remove_punct_dict))) #see previous section 1.2.5 lemmatization"
   ]
  },
  {
   "cell_type": "code",
   "execution_count": 23,
   "metadata": {},
   "outputs": [],
   "source": [
    "GREETING_INPUTS = (\"hello\", \"hi\", \"greetings\", \"sup\", \"what's up\",\"hey\",)\n",
    "GREETING_RESPONSES = [\"hi\", \"hey\", \"*nods*\", \"hi there\", \"hello\", \"I am glad! You are talking to me\"]\n",
    "def greeting(sentence):\n",
    " \n",
    "    for word in sentence.split():\n",
    "        if word.lower() in GREETING_INPUTS:\n",
    "            return random.choice(GREETING_RESPONSES)"
   ]
  },
  {
   "cell_type": "code",
   "execution_count": 24,
   "metadata": {},
   "outputs": [],
   "source": [
    "article_text = re.sub(r'\\[[0-9]*\\]', ' ', article_text)\n",
    "article_text = re.sub(r'\\s+', ' ', article_text)"
   ]
  },
  {
   "cell_type": "code",
   "execution_count": 25,
   "metadata": {},
   "outputs": [],
   "source": [
    "article_sentences = nltk.sent_tokenize(article_text)\n",
    "article_words = nltk.word_tokenize(article_text)"
   ]
  },
  {
   "cell_type": "code",
   "execution_count": 26,
   "metadata": {},
   "outputs": [],
   "source": [
    "from sklearn.feature_extraction.text import TfidfVectorizer\n",
    "from sklearn.metrics.pairwise import cosine_similarity"
   ]
  },
  {
   "cell_type": "code",
   "execution_count": 27,
   "metadata": {},
   "outputs": [],
   "source": [
    "def generate_response(user_input):\n",
    "    cookie_response = ''\n",
    "    article_sentences.append(user_input)\n",
    "\n",
    "    word_vectorizer = TfidfVectorizer(tokenizer=get_processed_text, stop_words='english')\n",
    "    all_word_vectors = word_vectorizer.fit_transform(article_sentences)\n",
    "    similar_vector_values = cosine_similarity(all_word_vectors[-1], all_word_vectors)\n",
    "    similar_sentence_number = similar_vector_values.argsort()[0][-2]\n",
    "\n",
    "    matched_vector = similar_vector_values.flatten()\n",
    "    matched_vector.sort()\n",
    "    vector_matched = matched_vector[-2]\n",
    "\n",
    "    if vector_matched == 0:\n",
    "        cookie_response = cookie_response + \"I am sorry, I could not understand you\"\n",
    "        return cookie_response\n",
    "    else:\n",
    "        cookie_response = cookie_response + article_sentences[similar_sentence_number]\n",
    "        return cookie_response"
   ]
  },
  {
   "cell_type": "code",
   "execution_count": 28,
   "metadata": {},
   "outputs": [],
   "source": [
    "def greeting(sentence):\n",
    "    for word in sentence.split(): # Looks at each word in your sentence\n",
    "        if word.lower() in GREETING_INPUTS: # checks if the word matches a GREETING_INPUT\n",
    "            return random.choice(GREETING_RESPONSES) # replies with a GREETING_RESPONSE"
   ]
  },
  {
   "cell_type": "code",
   "execution_count": 29,
   "metadata": {},
   "outputs": [],
   "source": [
    "def response(user_response):\n",
    "    \n",
    "    cookie_response='' # initialize a variable to contain string\n",
    "    sent_tokens.append(user_response) #add user response to sent_tokens\n",
    "    TfidfVec = TfidfVectorizer(tokenizer=LemNormalize, stop_words='english') \n",
    "    tfidf = TfidfVec.fit_transform(sent_tokens) #get tfidf value\n",
    "    vals = cosine_similarity(tfidf[-1], tfidf) #get cosine similarity value\n",
    "    idx=vals.argsort()[0][-2] \n",
    "    flat = vals.flatten() \n",
    "    flat.sort() #sort in ascending order\n",
    "    req_tfidf = flat[-2] \n",
    "    \n",
    "    if(req_tfidf==0):\n",
    "        cookie_response=cookie_response+\"I am sorry! I don't understand you\"\n",
    "        return cookie_response\n",
    "    else:\n",
    "        cookie_response = cookie_response+sent_tokens[idx]\n",
    "        return cookie_response"
   ]
  },
  {
   "cell_type": "code",
   "execution_count": 30,
   "metadata": {},
   "outputs": [],
   "source": [
    "import datetime\n",
    "def tell_time(sentence):\n",
    "    for word in sentence.split():\n",
    "        if word.lower() -- 'time':\n",
    "            currentdt - datetime.datetime.now()\n",
    "            return currentdt.strftime(\"%Y-%n-%d %H:%M:%S\")"
   ]
  },
  {
   "cell_type": "code",
   "execution_count": null,
   "metadata": {},
   "outputs": [
    {
     "name": "stdout",
     "output_type": "stream",
     "text": [
      "cookie: My name is cookie. I will answer your queries about Workplace Harassment. If you want to exit, type Bye!\n",
      "hey\n",
      "cookie: hey\n",
      "Workplace Harassment\n",
      "cookie: physical harassment in the workplace takes many forms.\n",
      "singapore\n",
      "cookie: erik pevernagie\n",
      "== in singapore ==\n",
      "in an informal survey among 50 employees in singapore, 82% said they had experienced toxicity from their direct superior or colleagues in their careers, with some 33.3% experiencing it on a daily basis.\n",
      "definition\n",
      "cookie: ]</ref>\n",
      "\n",
      "acknowledging the difficulty of formulating a universal definition of workplace harassment, ezer broadly defines workplace harassment as \"irrational repeated behavior towards an employee or group of employees, which represents a health and security risk.<ref name=\"ezer\">{{cite journal | last1 = ezer | first1 = marius | last2 = ezer | first2 = oana florentina | title = workplace harassment, mobbing phenomenon | journal = perspectives of business law journal | volume = 1 | issue = 1 | pages = 298–304 | date = november 2012 | url = http://www.businesslawconference.ro/revista/anul1nr1.html }} [http://www.businesslawconference.ro/revista/articole/an1nr1/33%20marius%20ezer%20si%20oana%20ezer%20eng.pdf pdf.\n",
      "In the United States\n",
      "cookie: ==in the united states==\n",
      "\n",
      "===types===\n",
      "the varying harassment imposed on the victims can be categorized into two different types, physical abuse and emotional abuse.\n",
      "different types\n",
      "cookie: ==in the united states==\n",
      "\n",
      "===types===\n",
      "the varying harassment imposed on the victims can be categorized into two different types, physical abuse and emotional abuse.\n",
      "Physical harassment in the workplace takes many forms. Sexual assault is one form of widely known physical harassment. Sexual assault in the workplace has gained media and academic attention mainly in the 1990s after a series of famous sex scandals.[12] \"Among the most notorious are the 1991 congressional hearings on the alleged sexual harassment of Anita Hill by Clarence Thomas, nominee to the Supreme Court; the sexual assault on female officers at a party during the 1991 annual convention of Navy fighter pilots\n",
      "cookie: | last3 = dellinger | first3 = kirsten | title = sexuality in the workplace: organizational control, sexual harassment, and the pursuit of pleasure | journal = [[annual review of sociology]] | volume = 25 | pages = 73–93 | jstor = 223498 | doi = 10.1146/annurev.soc.25.1.73 | date = 1999 }}</ref> \"among the most notorious are the 1991 congressional hearings on the alleged sexual harassment of [[anita hill]] by clarence thomas, nominee to the supreme court; the sexual assault on female officers at a party during the 1991 annual convention of navy fighter pilots; the dismissal of air force pilot kelly flinn for adultery in 1997; the 1998 trial and acquittal of the top ranking army enlisted man on charges of sexual harassment; and the independent counsel investigations of president clinton's sexual affairs with subordinates.\n",
      "Emotional harassment Unlike physical harassment, emotional harassment is unnoticeable and also viewed as being more socially acceptable.[17] Naturally, emotional harassment in the workplace gets less attention than physical harassment in the workplace, which perpetuates the issue of emotional harassment in the workplace.[17] According to Keashly, emotional harassment can be defined as \"the hostile verbal and nonverbal behaviors that are not explicitly tied to sexual or racial content yet are directed at gaining compliance from others.\"[17] In short, emotional harassment is manipulation of people's actions through social behaviors\n",
      "cookie: ]</ref>\n",
      "\n",
      "====emotional harassment====\n",
      "\n",
      "unlike physical harassment, emotional harassment is unnoticeable and also viewed as being more socially acceptable.<ref name=\"keashly\">{{cite journal | last = keashly  | first = loraleigh | title = emotional abuse in the workplace: conceptual and empirical issues | journal = [[journal of aggression, maltreatment & trauma|journal of emotional abuse]] | volume = 1 | issue = 1 | pages = 85–117 | doi = 10.1300/j135v01n01_05 | date = july 1997 }}</ref> naturally, emotional harassment in the workplace gets less attention than physical harassment in the workplace, which perpetuates the issue of emotional harassment in the workplace.<ref name=\"keashly\" /> according to keashly, emotional harassment can be defined as \"the hostile verbal and nonverbal behaviors that are not explicitly tied to sexual or racial content yet are directed at gaining compliance from others.\n",
      "Gender Both men and women are victims of workplace harassment. Workplace harassment for women dates back to women's first foray into the workforce, as early as colonial times. The most common form of workplace harassment that women face is sexual harassment.[13] According to Fitzgerald, one of every two women experiences workplace harassment in their working or academic lives.[13] The most common form of sexual harassment is the unwanted and unavoidable sexual attention from co-workers.[13] A study of government employees shows the inescapable, uncomfortable sexual attention takes varying forms.[13] 33% of respondents had been called by sexual remarks, 26% of respondents faced physical touching\n",
      "cookie: the most common form of workplace harassment that women face is sexual harassment.<ref name=\"fitzgerald\" /> according to fitzgerald, one of every two women experiences workplace harassment in their working or academic lives.<ref name=\"fitzgerald\" /> the most common form of sexual harassment is the unwanted and unavoidable sexual attention from co-workers.<ref name=\"fitzgerald\" /> a study of government employees shows the inescapable, uncomfortable sexual attention takes varying forms.<ref name=\"fitzgerald\" /> 33% of respondents had been called by sexual remarks, 26% of respondents faced physical touching, and 15% respondents were pressured to go on a date.<ref name=\"fitzgerald\" /> the more explicit forms of sexual harassment are shown by court cases, such as [[meritor savings bank v. vinson|meritor v. vinson]] (1986), robinson v. jacksonville shipyards (1991), and others.<ref name=\"fitzgerald\" /> in meritor v. vinson, \"michele vinson, an employee of meritor savings bank, was forced to have sex with her boss between 40 and 50 times.\n",
      "Sexuality The Williams Institute 2011 study shows that \"In the American workforce, more than eight million people (or 4 percent of the U.S. workforce) identify as lesbian, gay, bisexual, or transgender (LGBT)\n",
      "cookie: }}</ref>  men experience less workplace sexual harassment than women, as only 16.7% of men reported rape/sexual assault, but men face more workplace violence.<ref name=\"warchol\" /> 72% of men were robbed in their workplace, 74.4% of men experienced aggravated assault, and 66.1% of men experienced simple assault.<ref name=\"warchol\" />\n",
      "\n",
      "====sexuality====\n",
      "the williams institute 2011 study shows that \"in the american workforce, more than eight million people (or 4 percent of the u.s. workforce) identify as [[lgbt|lesbian, gay, bisexual, or transgender]] (lgbt).\n",
      "Messick Svare, Gloria; Miller, Leonard; Ames, Genevieve (November 2004). \"Social climate and workplace drinking among women in a male-dominated occupation\".\n",
      "cookie: | title = workplace harassment, stress, and drinking behavior over time: gender differences in a national sample | journal = [[addictive behaviors]] | volume = 33 | issue = 7 | pages = 964–967 | doi = 10.1016/j.addbeh.2008.02.009 | pmc = 2442899 | date = july 2008 | pmid=18384975}}</ref> however, a 2004 survey of a random sample of employees at a heavy machinery assembly plant shows that women are more sensitive and receptive of workplace harassment, and therefore women have \"a greater propensity to drink\".<ref name=\"svare\">{{cite journal | last1 = messick svare | first1 = gloria | last2 = miller | first2 = leonard | last3 = ames | first3 = genevieve | title = social climate and workplace drinking among women in a male-dominated occupation | journal = [[addictive behaviors]] | volume = 29 | issue = 8 | pages = 1691–1698 | doi = 10.1016/j.addbeh.2004.03.033 | pmid = 15451139 | date = november 2004 }}</ref> the negative drinking effects are more severe for women than they are for men.<ref name=\"rospenda\" />\n",
      "\n"
     ]
    },
    {
     "name": "stdout",
     "output_type": "stream",
     "text": [
      "one mail survey that was completed at four points in time by a cohort of 1654 employees has shown that the positive correlation between consumption of drinking and levels of workplace harassment continues after retirement.<ref name=\":4\">{{cite journal | last1 = richman | first1 = judith a.\n",
      "Anita Hill\n",
      "cookie: }}</ref>\n",
      "\n",
      "====physical harassment====\n",
      "[[file:anita hill at harvard law school sep 2014.jpg|thumb|anita hill testified her charge against clarence thomas for sexually harassing her at the department of education and the eeoc.]]\n",
      "anita hill\n",
      "cookie: }}</ref>\n",
      "\n",
      "====physical harassment====\n",
      "[[file:anita hill at harvard law school sep 2014.jpg|thumb|anita hill testified her charge against clarence thomas for sexually harassing her at the department of education and the eeoc.]]\n",
      "United States Merit Systems Protection Board\n",
      "cookie: for example, a study by the [[u.s. merit systems protection board]] in 1981 shows that among the female government employees, 33 percent experienced sexual comments, 26 percent had unwanted physical touching, and 15 percent was pressured for dates.<ref name=\"fitzgerald\">{{cite journal | last = fitzgerald | first = louise f. | title = sexual harassment: violence against women in the workplace | journal = [[american psychologist]] | volume = 48 | issue = 10 | pages = 1070–1076 | doi = 10.1037/0003-066x.48.10.1070 | date = october 1993 }}</ref> moreover, \"nearly 10% had been directly pressured for sexual cooperation, and a similar percentage described repeated telephone calls and unwelcome letters or notes.\n",
      "physical touching\n",
      "cookie: physical harassment in the workplace takes many forms.\n"
     ]
    }
   ],
   "source": [
    "flag=True\n",
    "print(\"cookie: My name is cookie. I will answer your queries about Workplace Harassment. If you want to exit, type Bye!\")\n",
    "while(flag==True):\n",
    "    user_response = input()\n",
    "    user_response=user_response.lower()\n",
    "    if(user_response!='bye'):\n",
    "        if(user_response=='thanks' or user_response=='thank you' ):\n",
    "            flag=False\n",
    "            print(\"cookie: You are welcome..\")\n",
    "        else:\n",
    "            if(greeting(user_response)!=None):\n",
    "                print(\"cookie: \"+greeting(user_response))\n",
    "            else:\n",
    "                print(\"cookie: \",end=\"\")\n",
    "                print(response(user_response))\n",
    "                sent_tokens.remove(user_response)\n",
    "    else:\n",
    "        flag=False\n",
    "        print(\"cookie: Bye! take care..\")"
   ]
  },
  {
   "cell_type": "code",
   "execution_count": null,
   "metadata": {},
   "outputs": [],
   "source": [
    "!pip install chatux --save"
   ]
  },
  {
   "cell_type": "code",
   "execution_count": null,
   "metadata": {},
   "outputs": [],
   "source": []
  }
 ],
 "metadata": {
  "kernelspec": {
   "display_name": "Python 3",
   "language": "python",
   "name": "python3"
  },
  "language_info": {
   "codemirror_mode": {
    "name": "ipython",
    "version": 3
   },
   "file_extension": ".py",
   "mimetype": "text/x-python",
   "name": "python",
   "nbconvert_exporter": "python",
   "pygments_lexer": "ipython3",
   "version": "3.8.5"
  }
 },
 "nbformat": 4,
 "nbformat_minor": 4
}
